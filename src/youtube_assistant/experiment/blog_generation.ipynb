{
 "cells": [
  {
   "cell_type": "markdown",
   "metadata": {
    "vscode": {
     "languageId": "plaintext"
    }
   },
   "source": [
    "# Blog Generation"
   ]
  },
  {
   "cell_type": "code",
   "execution_count": 94,
   "metadata": {},
   "outputs": [],
   "source": [
    "from dotenv import load_dotenv\n",
    "load_dotenv()\n",
    "from IPython.display import Markdown"
   ]
  },
  {
   "cell_type": "code",
   "execution_count": 95,
   "metadata": {},
   "outputs": [],
   "source": [
    "from pydantic import BaseModel, Field\n",
    "from typing_extensions import TypedDict,Optional\n",
    "from typing import List,Annotated, Literal\n",
    "\n",
    "from langchain_core.messages import AnyMessage, SystemMessage, HumanMessage\n",
    "from langchain_anthropic import ChatAnthropic\n",
    "from langgraph.graph.message import add_messages\n"
   ]
  },
  {
   "cell_type": "code",
   "execution_count": 159,
   "metadata": {},
   "outputs": [],
   "source": [
    "class BlogState(TypedDict):\n",
    "    user_message: str # Annotated[List[str], add_messages]\n",
    "    youtube_url: Optional[str]\n",
    "    youtube_transcript: str\n",
    "    blog_title: str\n",
    "    blog_content: str\n",
    "    final_blog: str"
   ]
  },
  {
   "cell_type": "markdown",
   "metadata": {},
   "source": [
    "### Query Router"
   ]
  },
  {
   "cell_type": "code",
   "execution_count": 160,
   "metadata": {},
   "outputs": [],
   "source": [
    "class QueryRouter(BaseModel):\n",
    "    next_step: Literal[\"youtube\", \"assistant\"] = Field(\n",
    "        description=(\n",
    "            \"Determines the routing path for the user query:\\n\"\n",
    "            \"- 'youtube': When the user provides a YouTube URL\\n\" #  and requests blog generation\n",
    "            \"- 'assistant': When the user asks general questions or requires direct assistance\"\n",
    "        )\n",
    "    )"
   ]
  },
  {
   "cell_type": "code",
   "execution_count": 161,
   "metadata": {},
   "outputs": [],
   "source": [
    "llm = ChatAnthropic(model=\"claude-3-7-sonnet-latest\")"
   ]
  },
  {
   "cell_type": "code",
   "execution_count": 162,
   "metadata": {},
   "outputs": [],
   "source": [
    "def query_router(state: BlogState) -> dict:\n",
    "    print(f\"\\n\\{'--'*10}  QUERY ROUTER  {'--'*10}\\n\\n\")\n",
    "    try:\n",
    "        message = state.get('user_message')\n",
    "        print(message)\n",
    "        print(type(message))\n",
    "        if not message:\n",
    "            raise ValueError(\"User message is missing from state\")\n",
    "\n",
    "        system_msg = SystemMessage(\n",
    "            content=(\n",
    "                \"You are a routing agent that directs user queries to appropriate handlers.\\n\\n\"\n",
    "                \"Rules for routing:\\n\"\n",
    "                \"1. Return 'youtube' if:\\n\"\n",
    "                \"   - The user message contains a YouTube URL/link AND\\n\"\n",
    "                \"   - They're requesting to generate or create a blog post\\n\\n\"\n",
    "                \"   - Or if the user message contain only youTube URL\\n\\n\"\n",
    "                \"2. Return 'assistant' if:\\n\"\n",
    "                \"   - The user is asking general questions\\n\"\n",
    "                \"   - Any other type of request\\n\"\n",
    "                \"   - No YouTube URL is present\\n\\n\"\n",
    "                \"Always return exactly one of these two options: 'youtube' or 'assistant'\"\n",
    "            )\n",
    "        )\n",
    "        print(\"E1\")\n",
    "        human_msg = HumanMessage(content=message)\n",
    "        \n",
    "        try:\n",
    "            router_llm = llm.with_structured_output(schema=QueryRouter)\n",
    "            response = router_llm.invoke(\n",
    "                input=[system_msg, human_msg]\n",
    "            )\n",
    "            next_step = response.next_step\n",
    "            if next_step == \"youtube\":\n",
    "                return \"youtube\"\n",
    "            elif next_step == \"assistant\":\n",
    "                return \"assistant\"\n",
    "            \n",
    "        except Exception as e:\n",
    "            raise RuntimeError(f\"LLM invocation failed: {str(e)}\")\n",
    "            \n",
    "    except Exception as e:\n",
    "        raise RuntimeError(f\"Query routing failed: {str(e)}\")"
   ]
  },
  {
   "cell_type": "code",
   "execution_count": 163,
   "metadata": {},
   "outputs": [],
   "source": [
    "# query_router({\n",
    "#     'user_message': \"Write a blog on this youtube url: https://youtu.be/N0S5mcGjC30?si=eo-0aSqKSvL9j8Qo\"\n",
    "# })"
   ]
  },
  {
   "cell_type": "code",
   "execution_count": 164,
   "metadata": {},
   "outputs": [],
   "source": [
    "# query_router({\n",
    "#     'user_message': \"https://youtu.be/N0S5mcGjC30?si=eo-0aSqKSvL9j8Qo\"\n",
    "# })"
   ]
  },
  {
   "cell_type": "code",
   "execution_count": 165,
   "metadata": {},
   "outputs": [],
   "source": [
    "# query_router({\n",
    "#     'user_message': \"How to make you tube videos\"\n",
    "# })"
   ]
  },
  {
   "cell_type": "markdown",
   "metadata": {},
   "source": [
    "### Get YouTue URL"
   ]
  },
  {
   "cell_type": "code",
   "execution_count": 166,
   "metadata": {},
   "outputs": [],
   "source": [
    "class YouTubeURL(BaseModel):\n",
    "    url: str = Field(\n",
    "        description=\"Valid YouTube URL extracted from the user message\",\n",
    "    )"
   ]
  },
  {
   "cell_type": "code",
   "execution_count": 167,
   "metadata": {},
   "outputs": [],
   "source": [
    "def get_youtube_url(state: BlogState):\n",
    "    print(f\"\\n\\{'--'*10}  GET YOUTUBE URL  {'--'*10}\\n\\n\")\n",
    "    try:\n",
    "            \n",
    "        message = state.get('user_message')\n",
    "        if not message:\n",
    "            raise ValueError(\"User message is missing from state\")\n",
    "\n",
    "        system_msg = SystemMessage(\n",
    "            content=(\n",
    "                \"Extract YouTube URLs from the user message following these rules:\\n\"\n",
    "                \"1. Only extract valid YouTube URLs (full URLs or youtu.be format)\\n\"\n",
    "                \"2. Return exactly one URL without any additional text\\n\"\n",
    "                \"3. Ensure the URL contains a valid video ID\\n\"\n",
    "                \"4. Do not modify or transform the original URL\\n\"\n",
    "                \"5. If multiple URLs exist, extract the first valid one\\n\"\n",
    "                \"6. If no valid YouTube URL is found, return None\"\n",
    "            )\n",
    "        )\n",
    "        \n",
    "        human_msg = HumanMessage(content=message)\n",
    "        \n",
    "        try:\n",
    "            url_getter_llm = llm.with_structured_output(schema=YouTubeURL)\n",
    "            response = url_getter_llm.invoke(\n",
    "                input=[system_msg, human_msg]\n",
    "            )\n",
    "\n",
    "            print(response.url)\n",
    "            \n",
    "            if (response.url == \"None\") or (not response.url):\n",
    "                return {'youtube_url': None}\n",
    "                \n",
    "            return {'youtube_url': response.url}\n",
    "            \n",
    "        except Exception as e:\n",
    "            raise RuntimeError(f\"URL extraction failed: {str(e)}\")\n",
    "            \n",
    "    except Exception as e:\n",
    "        raise RuntimeError(f\"YouTube URL extraction process failed: {str(e)}\")"
   ]
  },
  {
   "cell_type": "code",
   "execution_count": 168,
   "metadata": {},
   "outputs": [],
   "source": [
    "# get_youtube_url({\n",
    "#     'user_message': \"Write a blog on this youtube url: https://youtu.be/N0S5mcGjC30?si=eo-0aSqKSvL9j8Qo\"\n",
    "# })"
   ]
  },
  {
   "cell_type": "code",
   "execution_count": 169,
   "metadata": {},
   "outputs": [],
   "source": [
    "# get_youtube_url({\n",
    "#     'user_message': \"Write a blog on this youtube url: \"\n",
    "# })"
   ]
  },
  {
   "cell_type": "code",
   "execution_count": null,
   "metadata": {},
   "outputs": [],
   "source": []
  },
  {
   "cell_type": "markdown",
   "metadata": {},
   "source": [
    "### Transcript extract"
   ]
  },
  {
   "cell_type": "code",
   "execution_count": 170,
   "metadata": {},
   "outputs": [],
   "source": [
    "from urllib.parse import urlparse, parse_qs\n",
    "from youtube_transcript_api import (\n",
    "    YouTubeTranscriptApi,\n",
    "    NoTranscriptFound,\n",
    "    TranscriptsDisabled,\n",
    "    VideoUnavailable\n",
    ")\n",
    "\n",
    "import re\n",
    "from typing import Dict, Optional"
   ]
  },
  {
   "cell_type": "code",
   "execution_count": 171,
   "metadata": {},
   "outputs": [
    {
     "data": {
      "text/plain": [
       "ParseResult(scheme='https', netloc='www.youtube.com', path='/watch', params='', query='v=dQw4w9WgXcQ', fragment='')"
      ]
     },
     "execution_count": 171,
     "metadata": {},
     "output_type": "execute_result"
    }
   ],
   "source": [
    "urlparse(\"https://www.youtube.com/watch?v=dQw4w9WgXcQ\")"
   ]
  },
  {
   "cell_type": "code",
   "execution_count": 172,
   "metadata": {},
   "outputs": [
    {
     "data": {
      "text/plain": [
       "ParseResult(scheme='https', netloc='www.youtube.com', path='/watch', params='', query='v=dQw4w9WgXcQ&t=42s', fragment='')"
      ]
     },
     "execution_count": 172,
     "metadata": {},
     "output_type": "execute_result"
    }
   ],
   "source": [
    "urlparse(\"https://www.youtube.com/watch?v=dQw4w9WgXcQ&t=42s\")"
   ]
  },
  {
   "cell_type": "code",
   "execution_count": 173,
   "metadata": {},
   "outputs": [
    {
     "data": {
      "text/plain": [
       "ParseResult(scheme='https', netloc='www.youtube.com', path='/embed/dQw4w9WgXcQ', params='', query='', fragment='')"
      ]
     },
     "execution_count": 173,
     "metadata": {},
     "output_type": "execute_result"
    }
   ],
   "source": [
    "urlparse(\"https://www.youtube.com/embed/dQw4w9WgXcQ\")"
   ]
  },
  {
   "cell_type": "code",
   "execution_count": 174,
   "metadata": {},
   "outputs": [],
   "source": [
    "def extract_video_id(url: str) -> str:\n",
    "    try:\n",
    "        if 'youtu.be' in url:\n",
    "            return url.split('/')[-1].split('?')[0]\n",
    "        \n",
    "        parsed_url = urlparse(url)\n",
    "        if 'youtube.com' in parsed_url.netloc:\n",
    "            if 'watch' in parsed_url.path:\n",
    "                return parse_qs(parsed_url.query)['v'][0]\n",
    "            elif 'embed' in parsed_url.path:\n",
    "                return parsed_url.path.split('/')[-1]\n",
    "            \n",
    "        raise ValueError(\"Invalid YouTube URL format\")\n",
    "        \n",
    "    except Exception as e:\n",
    "        raise ValueError(f\"Failed to extract video ID: {str(e)}\")"
   ]
  },
  {
   "cell_type": "code",
   "execution_count": 175,
   "metadata": {},
   "outputs": [
    {
     "data": {
      "text/plain": [
       "'dQw4w9WgXcQ'"
      ]
     },
     "execution_count": 175,
     "metadata": {},
     "output_type": "execute_result"
    }
   ],
   "source": [
    "extract_video_id(\"https://www.youtube.com/watch?v=dQw4w9WgXcQ\")"
   ]
  },
  {
   "cell_type": "code",
   "execution_count": 176,
   "metadata": {},
   "outputs": [
    {
     "data": {
      "text/plain": [
       "'dQw4w9WgXcQ'"
      ]
     },
     "execution_count": 176,
     "metadata": {},
     "output_type": "execute_result"
    }
   ],
   "source": [
    "extract_video_id(\"https://www.youtube.com/watch?v=dQw4w9WgXcQ&t=42s\")"
   ]
  },
  {
   "cell_type": "code",
   "execution_count": 177,
   "metadata": {},
   "outputs": [
    {
     "data": {
      "text/plain": [
       "'dQw4w9WgXcQ'"
      ]
     },
     "execution_count": 177,
     "metadata": {},
     "output_type": "execute_result"
    }
   ],
   "source": [
    "extract_video_id(\"https://www.youtube.com/embed/dQw4w9WgXcQ\")"
   ]
  },
  {
   "cell_type": "code",
   "execution_count": null,
   "metadata": {},
   "outputs": [],
   "source": []
  },
  {
   "cell_type": "code",
   "execution_count": 178,
   "metadata": {},
   "outputs": [],
   "source": [
    "def clean_transcript_text(text: str) -> str:\n",
    "\n",
    "    # Remove multiple newlines\n",
    "    text = re.sub(r'\\n\\s*\\n', '\\n', text)\n",
    "    # Remove special characters but keep basic punctuation\n",
    "    text = re.sub(r'[^\\w\\s.,!?-]', '', text)\n",
    "    # Normalize whitespace\n",
    "    text = ' '.join(text.split())\n",
    "    return text"
   ]
  },
  {
   "cell_type": "code",
   "execution_count": 179,
   "metadata": {},
   "outputs": [],
   "source": [
    "def get_transcript(state: BlogState):\n",
    "    print(f\"\\n\\{'--'*10}  GET YOUTUBE TRANSCRIPT  {'--'*10}\\n\\n\")\n",
    "    try:    \n",
    "        url = state.get('youtube_url')\n",
    "        if not url:\n",
    "            raise ValueError(\"YouTube URL is missing from state\")\n",
    "\n",
    "        video_id = extract_video_id(url)\n",
    "        \n",
    "        try:\n",
    "            transcript = YouTubeTranscriptApi.get_transcript(\n",
    "                video_id=video_id,\n",
    "                languages=['en'] \n",
    "            )\n",
    "            \n",
    "            content = \"\\n\".join(subtitle.get('text', '').strip() for subtitle in transcript if subtitle.get('text'))\n",
    "            \n",
    "            cleaned_content = clean_transcript_text(content)\n",
    "            \n",
    "            if not cleaned_content:\n",
    "                raise ValueError(\"Empty transcript after processing\")\n",
    "                \n",
    "            return {'youtube_transcript': cleaned_content}\n",
    "            \n",
    "        except NoTranscriptFound:\n",
    "            raise RuntimeError(\"No transcript available for this video\")\n",
    "        except TranscriptsDisabled:\n",
    "            raise RuntimeError(\"Transcripts are disabled for this video\")\n",
    "        except VideoUnavailable:\n",
    "            raise RuntimeError(\"Video is unavailable or private\")\n",
    "        except Exception as e:\n",
    "            raise RuntimeError(f\"Failed to extract transcript: {str(e)}\")\n",
    "            \n",
    "    except Exception as e:\n",
    "        raise RuntimeError(f\"Transcript extraction process failed: {str(e)}\")"
   ]
  },
  {
   "cell_type": "code",
   "execution_count": 180,
   "metadata": {},
   "outputs": [],
   "source": [
    "# t = get_transcript(\n",
    "#     {\n",
    "#         'youtube_url': \"https://www.youtube.com/watch?v=Tx0Y3qb9ZUc\"\n",
    "#     }\n",
    "# )"
   ]
  },
  {
   "cell_type": "code",
   "execution_count": 181,
   "metadata": {},
   "outputs": [],
   "source": [
    "# print(t['youtube_transcript'])"
   ]
  },
  {
   "cell_type": "code",
   "execution_count": null,
   "metadata": {},
   "outputs": [],
   "source": []
  },
  {
   "cell_type": "markdown",
   "metadata": {},
   "source": [
    "### Title Generation"
   ]
  },
  {
   "cell_type": "code",
   "execution_count": 182,
   "metadata": {},
   "outputs": [],
   "source": [
    "class BlogTitle(BaseModel):\n",
    "    title: str = Field(\n",
    "        description=(\n",
    "            \"A compelling, SEO-friendly blog title derived from video transcript content.\\n\"\n",
    "            \"Should be:\\n\"\n",
    "            \"- Between 40-60 characters long\\n\"\n",
    "            \"- Contain main keywords from the transcript\\n\"\n",
    "            \"- Be engaging but not clickbait\\n\"\n",
    "            \"- Use proper capitalization\\n\"\n",
    "            \"- Avoid special characters except '?', ':', '-'\"\n",
    "        )\n",
    "    )\n"
   ]
  },
  {
   "cell_type": "code",
   "execution_count": 183,
   "metadata": {},
   "outputs": [],
   "source": [
    "def generate_youtube_title(state: BlogState):\n",
    "    print(f\"\\n\\{'--'*10}  GENERATE YOUTUBE TITLE  {'--'*10}\\n\\n\")\n",
    "    try:            \n",
    "        transcript = state.get(\"youtube_transcript\")\n",
    "\n",
    "        if not transcript or not isinstance(transcript, str):\n",
    "            raise ValueError(\"Valid transcript is required for title generation\")\n",
    "            \n",
    "\n",
    "        system_msg = SystemMessage(\n",
    "            content=(\n",
    "                \"You are an expert blog title generator optimizing for both engagement and SEO.\\n\\n\"\n",
    "                \"Guidelines for title generation:\\n\"\n",
    "                \"1. Analyze the transcript for main topic, key points, and unique insights\\n\"\n",
    "                \"2. Create a title that accurately reflects the content\\n\"\n",
    "                \"3. Use power words that drive engagement\\n\"\n",
    "                \"4. Include relevant keywords for SEO\\n\"\n",
    "                \"5. Maintain professional tone - no clickbait or sensationalism\\n\"\n",
    "                \"6. Use proper grammar and capitalization\\n\"\n",
    "                \"7. Keep length between 40-60 characters\\n\"\n",
    "                \"8. Make it compelling but honest\\n\\n\"\n",
    "                \"Focus on creating a title that would make readers want to learn more while \"\n",
    "                \"accurately representing the content.\"\n",
    "            )\n",
    "        )\n",
    "        \n",
    "        human_msg = HumanMessage(\n",
    "            content=(\n",
    "                \"Please analyze this video transcript and generate an optimal blog title.\\n\\n\"\n",
    "                \"Consider these aspects while analyzing:\\n\"\n",
    "                \"- Main topic and key message\\n\"\n",
    "                \"- Target audience\\n\"\n",
    "                \"- Unique insights or valuable information\\n\"\n",
    "                \"- Professional context\\n\\n\"\n",
    "                f\"Transcript:\\n{transcript}\"\n",
    "            )\n",
    "        )\n",
    "        \n",
    "        try:\n",
    "            title_generator_llm = llm.with_structured_output(schema=BlogTitle)\n",
    "            response = title_generator_llm.invoke(\n",
    "                input=[system_msg, human_msg]\n",
    "            )\n",
    "            \n",
    "            return {'blog_title': response.title}\n",
    "            \n",
    "        except Exception as e:\n",
    "            raise RuntimeError(f\"Title generation failed: {str(e)}\")\n",
    "            \n",
    "    except Exception as e:\n",
    "        raise RuntimeError(f\"Blog title generation process failed: {str(e)}\")"
   ]
  },
  {
   "cell_type": "code",
   "execution_count": 184,
   "metadata": {},
   "outputs": [],
   "source": [
    "# generate_youtube_title(t)"
   ]
  },
  {
   "cell_type": "code",
   "execution_count": null,
   "metadata": {},
   "outputs": [],
   "source": []
  },
  {
   "cell_type": "markdown",
   "metadata": {},
   "source": [
    "### Blog Generation"
   ]
  },
  {
   "cell_type": "code",
   "execution_count": 185,
   "metadata": {},
   "outputs": [],
   "source": [
    "def generate_blog_content(state: BlogState):\n",
    "\n",
    "    print(f\"\\n\\{'--'*10}  GENERATE BLOG CONTENT  {'--'*10}\\n\\n\")\n",
    "    try:            \n",
    "        transcript = state.get(\"youtube_transcript\")\n",
    "        if not transcript or not isinstance(transcript, str):\n",
    "            raise ValueError(\"YouTube transcript is missing or invalid\")\n",
    "\n",
    "        system_msg = SystemMessage(\n",
    "            content=(\n",
    "                \"You are an expert blog content writer specializing in creating engaging, \"\n",
    "                \"informative, and well-structured articles from youtube video transcript.\\n\\n\"\n",
    "                \"Use only provided youtube transcript for blog generation.\\n\\n\"\n",
    "                \"Guidelines for blog generation:\\n\"\n",
    "                \"1. Create clear section hierarchy with relevant subheadings\\n\"\n",
    "                \"2. Maintain consistent tone and style throughout\\n\"\n",
    "                \"3. Expand on key points with examples and context\\n\"\n",
    "                \"4. Use transitional phrases between sections\\n\"\n",
    "                \"5. Include relevant examples and explanations\\n\"\n",
    "                \"6. Optimize content for both readability and SEO\\n\"\n",
    "                \"7. Ensure each section provides unique value\\n\"\n",
    "                \"8. Write in an engaging but professional tone\\n\"\n",
    "                \"9. Use short paragraphs and clear language\\n\"\n",
    "                \"10. Add relevant context where the video may lack detail\\n\\n\"\n",
    "                \"Focus on creating content that is both informative and engaging while \"\n",
    "                \"maintaining the original message of the video.\\n\\n\"\n",
    "                \"Format your response using markdown for better readability.\"\n",
    "            )\n",
    "        )\n",
    "        \n",
    "        human_msg = HumanMessage(\n",
    "            content=(\n",
    "                f\"Please generate a comprehensive blog post based on this video transcript.\\n\\n\"\n",
    "                \"Requirements:\\n\"\n",
    "                \"- Create an engaging introduction\\n\"\n",
    "                \"- Create clear section hierarchy with relevant subheadings (use ## for headings)\\n\"\n",
    "                \"- Write a strong conclusion\\n\"\n",
    "                \"- Add value beyond the transcript\\n\"\n",
    "                \"- Ensure smooth transitions between sections\\n\"\n",
    "                \"- Use markdown formatting for structure\\n\\n\"\n",
    "                f\"Transcript:\\n{transcript}\\n\\n\"\n",
    "                \"Note: Don't write a title for the blog, as it's already provided separately.\"\n",
    "            )\n",
    "        )\n",
    "        \n",
    "        try:\n",
    "            llm = ChatAnthropic(\n",
    "                model=\"claude-3-7-sonnet-latest\",\n",
    "                max_tokens=10_000,\n",
    "                temperature=0.7  \n",
    "            )\n",
    "            \n",
    "            blog_content = llm.invoke(\n",
    "                input=[system_msg, human_msg]\n",
    "            )\n",
    "            \n",
    "            if not blog_content.content.strip():\n",
    "                raise ValueError(\"Generated blog content is empty\")\n",
    "            \n",
    "            return {'blog_content': blog_content.content}\n",
    "            \n",
    "        except Exception as e:\n",
    "            raise RuntimeError(f\"Blog generation failed: {str(e)}\")\n",
    "            \n",
    "    except Exception as e:\n",
    "        raise RuntimeError(f\"Blog content generation process failed: {str(e)}\")"
   ]
  },
  {
   "cell_type": "code",
   "execution_count": 186,
   "metadata": {},
   "outputs": [],
   "source": [
    "# blog=generate_blog_content(t)\n",
    "# blog"
   ]
  },
  {
   "cell_type": "code",
   "execution_count": 153,
   "metadata": {},
   "outputs": [],
   "source": [
    "# Markdown(blog['blog_content'])"
   ]
  },
  {
   "cell_type": "markdown",
   "metadata": {},
   "source": [
    "### Aggregator "
   ]
  },
  {
   "cell_type": "code",
   "execution_count": 187,
   "metadata": {},
   "outputs": [],
   "source": [
    "def aggregator(state: BlogState):\n",
    "    \"\"\"\n",
    "    Combine blog title and content into final formatted blog.\n",
    "    \n",
    "    Args:\n",
    "        state: Dictionary with blog_title and blog_content\n",
    "        \n",
    "    Returns:\n",
    "        dict: Contains final formatted blog\n",
    "    \"\"\"\n",
    "    try:\n",
    "        blog_title = state.get('blog_title')\n",
    "        blog_content = state.get('blog_content')\n",
    "        \n",
    "        if not blog_title or not blog_content:\n",
    "            raise ValueError(\"Missing blog title or content\")\n",
    "\n",
    "        final_blog = f\"# {blog_title}\\n\\n{blog_content}\"\n",
    "            \n",
    "        return {'final_blog': final_blog}\n",
    "            \n",
    "    except Exception as e:\n",
    "        raise RuntimeError(f\"Failed to aggregate blog: {str(e)}\")"
   ]
  },
  {
   "cell_type": "markdown",
   "metadata": {},
   "source": [
    "### Assistant"
   ]
  },
  {
   "cell_type": "code",
   "execution_count": 188,
   "metadata": {},
   "outputs": [],
   "source": [
    "def assistant(state: BlogState):\n",
    "    messages = state.get(\"user_message\")\n",
    "    llm = ChatAnthropic(model=\"claude-3-7-sonnet-latest\")\n",
    "    response = llm.invoke(\n",
    "        input=[\n",
    "            SystemMessage(content=\"You are a helpful assistant.Answer the user question in friendly tone\"),\n",
    "            HumanMessage(content=messages)\n",
    "        ]\n",
    "    )\n",
    "\n",
    "    return {\n",
    "        'final_blog': response.content\n",
    "    }"
   ]
  },
  {
   "cell_type": "code",
   "execution_count": 189,
   "metadata": {},
   "outputs": [],
   "source": [
    "# assistant({'user_message': \"Hi, My name is Suraj\"})"
   ]
  },
  {
   "cell_type": "code",
   "execution_count": null,
   "metadata": {},
   "outputs": [],
   "source": []
  },
  {
   "cell_type": "markdown",
   "metadata": {},
   "source": [
    "# Graph"
   ]
  },
  {
   "cell_type": "code",
   "execution_count": 190,
   "metadata": {},
   "outputs": [],
   "source": [
    "from langgraph.graph import START,END,StateGraph"
   ]
  },
  {
   "cell_type": "code",
   "execution_count": 191,
   "metadata": {},
   "outputs": [
    {
     "data": {
      "image/png": "[encoded data removed]",
      "text/plain": [
       "<langgraph.graph.state.CompiledStateGraph object at 0x0000023678EE6230>"
      ]
     },
     "execution_count": 191,
     "metadata": {},
     "output_type": "execute_result"
    }
   ],
   "source": [
    "workflow = StateGraph(BlogState)\n",
    "\n",
    "workflow.add_node(\"assistant\", assistant)\n",
    "workflow.add_node(\"get_youtube_url\", get_youtube_url)\n",
    "workflow.add_node(\"get_transcript\", get_transcript)\n",
    "workflow.add_node(\"generate_youtube_title\", generate_youtube_title)\n",
    "workflow.add_node(\"generate_blog_content\", generate_blog_content)\n",
    "workflow.add_node(\"aggregator\", aggregator)\n",
    "\n",
    "workflow.add_conditional_edges(\n",
    "    START,\n",
    "    query_router,\n",
    "    {\n",
    "        \"youtube\": \"get_youtube_url\",\n",
    "        \"assistant\": \"assistant\"\n",
    "    }\n",
    ")\n",
    "workflow.add_edge(\"get_youtube_url\", \"get_transcript\")\n",
    "workflow.add_edge(\"get_transcript\", \"generate_youtube_title\")\n",
    "workflow.add_edge(\"get_transcript\", \"generate_blog_content\")\n",
    "workflow.add_edge(\"generate_youtube_title\", \"aggregator\")\n",
    "workflow.add_edge(\"generate_blog_content\", \"aggregator\")\n",
    "\n",
    "workflow.add_edge(\"aggregator\", END)\n",
    "workflow.add_edge(\"assistant\", END)\n",
    "\n",
    "blog_app = workflow.compile()\n",
    "\n",
    "blog_app"
   ]
  },
  {
   "cell_type": "code",
   "execution_count": 192,
   "metadata": {},
   "outputs": [
    {
     "name": "stdout",
     "output_type": "stream",
     "text": [
      "\n",
      "\\--------------------  QUERY ROUTER  --------------------\n",
      "\n",
      "\n",
      "Write a blog on this youtube url : https://youtu.be/Uwmp16aSgdk?si=7b7BhG5N1wjZgkGw\n",
      "<class 'str'>\n",
      "E1\n",
      "\n",
      "\\--------------------  GET YOUTUBE URL  --------------------\n",
      "\n",
      "\n",
      "https://youtu.be/Uwmp16aSgdk?si=7b7BhG5N1wjZgkGw\n",
      "\n",
      "\\--------------------  GET YOUTUBE TRANSCRIPT  --------------------\n",
      "\n",
      "\n",
      "\n",
      "\\--------------------  GENERATE BLOG CONTENT  --------------------\n",
      "\n",
      "\n",
      "\n",
      "\\--------------------  GENERATE YOUTUBE TITLE  --------------------\n",
      "\n",
      "\n"
     ]
    }
   ],
   "source": [
    "blog = blog_app.invoke(\n",
    "    input={\n",
    "        'user_message': \"Write a blog on this youtube url : https://youtu.be/Uwmp16aSgdk?si=7b7BhG5N1wjZgkGw\"\n",
    "    }\n",
    ")"
   ]
  },
  {
   "cell_type": "code",
   "execution_count": 193,
   "metadata": {},
   "outputs": [
    {
     "data": {
      "text/plain": [
       "{'user_message': 'Write a blog on this youtube url : https://youtu.be/Uwmp16aSgdk?si=7b7BhG5N1wjZgkGw',\n",
       " 'youtube_url': 'https://youtu.be/Uwmp16aSgdk?si=7b7BhG5N1wjZgkGw',\n",
       " 'youtube_transcript': 'upbeat music - All right, I think we can make this pretty short and sweet. The Mac team is on one? See, the M4 Mac Mini refresh was already one of the best tech deals of all 2024, great computer, great price. So now here comes this new M4 MacBook Air. Its the most capable, powerful version yet, obviously, thanks to the new chip. The starting memory is 16 gigs, it gets a sneaky, slightly larger battery, some Thunderbolt improvements, a new webcam, a new color, and the price goes down. Its kind of funny looking back a bit at the arc of reviewing MacBook Airs over the years. Like at first, it was this spectacle of engineering, but also kind of impractical and missing a few ports. It went from that to being, you know, a bit of an outdated design, but improving a lot. Then turned into basically the easiest to recommend laptop in the world at 999. But then with Apple silicon updates and higher base storage, the price did go up with the M2 generation by 200 bucks, so it was 1,199, and I feel like everyone just kind of went, all right, its still fine, yeah, still a good laptop for that price. But now its 2025 and its got the M4 chip and the price has dropped back down to 999 for the base machine again, and that is sick. Now, almost nothing else has physically changed with this laptop. Still the same keyboard, you know, theres no speaker grills, theres still MagSafe charging, two USB type C ports, the headphone jack, the notch at the top of the 60 hertz LCD, the thin and light aluminum build, this is very much still the MacBook Air. If you wanna get sweaty about it, as Dave2D would say, I noticed the mute button icon is different, and the webcam is now a 12 megapixel center stage webcam, which can follow you around the frame if you leave it on. But I actually do turn it off every time. And also I noticed on Apples website, the battery capacity went up slightly from 52.6 watt hours to 53.8 watt hours this generation, so thats about 2 more capacity. Im paying attention, okay, its a real life spot the differences challenge. But really the main way, obviously, youll know if its the new laptop generation or not, is this, did you notice its a new color? Barely. Its called Sky Blue this time. If I could rename it, Id rename it barely blue, considering, when its up against white backgrounds, okay, it looks a little bit blue, but when its up against actually blue things, it literally looks silver again. Its like the LaCroix of MacBook paint colors. Its like someone whispered the word blue in the paint shop just before placing each one in its box and shipping it away. But, yeah, now you know, if you see this pale blue color on a MacBook Air, you know its the new one. This replaces Space Gray. But also, speaking of boxes, this is the box that my MacBook Air came in from Apple, the review unit, and I dont know if you notice on the corner there, it appears someone has bled onto the box of this computer. I dont really know how that happens, I just pulled it outta the cardboard shipping box and it just looked like this. Really weird, never seen that before. I really hope whoever packaged this computer is okay. Anyway, the main reason this laptop is such a big deal is the chip, right? This M4 chip, its really good. We already learned this from the M4 iPad Pro nine months ago, and then again with the M4 Mac Mini four months ago, this chip in the laptop will be passively cooled, so no fans in the Air, unlike the Mac Mini, so, yeah, sustained performance ceiling is going to be a bit lower. But for the quick bursty stuff like normal computer activities, yeah, its amazing as expected. And then, the specific benefit, in case you forgot, of the M4 over previous generations of Apple silicon is gonna be more AI specific horsepower. So more powerful 16 core neural engine, some of that manifests itself in useless stuff, like image playground, rendering images locally faster than ever before, cool. But also some of that is potentially useful stuff, like the background cutouts being quicker and more accurate, or the single click photo enhancer in Pixelmator Pro being much faster. Reviewing MacBook Airs is so funny though cause we do this every time, this is the baseline, this is the cheapest entry level way to get a Mac laptop, for people who dont care about pro-level tasks, theyre just gonna check their email and web browse and maybe edit a photo once in a while, basic stuff, MacBook Air, classic. But because Apple silicon has gotten so good, we end up able to do things that are way beyond that. This machine is capable of things that required a Pro chip like a couple of years ago, thats not an exaggeration. So when I tell you I could load up a bunch of 4K and 8K footage into a Final Cut Pro timeline, and it would scrub through the timeline with almost no hesitation at quarter res playback resolution, and then it could export the project just a few beats slower than a Mac Mini, that literally doesnt matter to 99 of MacBook Air buyers. But the chip is so powerful, its capable of it. So its just good to know that you could. You know most Airs will never have 3D modeling applications or Logic Pro or ever be churning through the Adobe Suite or playing AAA games, but instead theyll be doing video calls and having 20 Safari tabs open or flipping through a bunch of productivity apps. But it is pretty sick that this computer can stretch and handle all of that, should you choose to throw that at it, that is the modern MacBook Air. Theres even allegedly a customer that was frustrated with the last generation of Air because it couldnt connect two different 6K displays at the same time and use them with the lid open. And so, now this one can. So, okay, great, this laptop is still a great machine and a great deal. Heres my only complaint potentially with this laptop, I would like a better display. Now I know that Im coming from a MacBook Pro, and Im very used to these really good displays, and it seems like Apple is, as they usually do, reserving certain things for the Pros. So the Mini LED, the pro res high refresh rate, even the nano texture coating on the display, all of that stuff is reserved for the MacBook Pro. But all that is stuff that I would like to see in a MacBook Air, and I think it could handle it, I think its got plenty of battery, it could go brighter, it could look even better so I want a better screen on the MacBook Air, me personally, as an option. But, again, I know that most people wont even notice and will be totally fine with this. But heres a more important question that I ask basically every year with this MacBook Pro, because we always talk about this base price. Can you actually order the base price spec and still be fine? And this year, again, I feel like for most people, the answer actually is yes, because this time, thats 16 gigs of unified memory and then has 256 gigs of base storage. So the storage and memory upgrades are always borderline robbery, thats not a shocker. Like, I do like that you can get a much faster charger for 20 bucks if you dont already have one, but, yeah, doubling up to 16 gigs base for 999 is huge since these computers can go into swap memory so quickly. Shout out to the single best feature of Apple Intelligence, which has been improving the amount of RAM in every Apple device. If you are in the market for a base machine though, I think if you dont plan on ever doing super high-end tasks, you can still consider the last gen, this is gonna sound familiar, but the last gen is also a really good deal, it has half that memory, eight gigs, but its 799 at Best Buy right now. So thats a really good deal, obviously, if you have an older MacBook, if you have an Intel MacBook, this is the type of stuff youre gonna be looking at. Otherwise, then, yeah, pretty easy to recommend the baseline, the new entry level Sky Blue MacBook Air. All things considered, its pretty boring that this laptop doesnt change very much and its just a barely new color and its a chip weve already seen before, but I think its pretty exciting that laptops have gotten this good, period. Thanks for watching. Catch you guys in the next one. Peace. upbeat music',\n",
       " 'blog_title': 'M4 MacBook Air: More Power, More RAM, Less Money',\n",
       " 'blog_content': '# The New M4 MacBook Air: More Power, Less Money, and a Whisper of Blue\\n\\n*Apple has once again refreshed its most popular laptop, and this time they\\'ve created what might be one of the best tech deals of 2024. Let\\'s explore what makes the new M4 MacBook Air special, what\\'s changed, and whether it\\'s worth your money.*\\n\\n## The Evolution of MacBook Air: From Engineering Marvel to Essential Computing\\n\\nThe MacBook Air has had quite the journey over the years. It began as a spectacular feat of engineering—impressively thin but somewhat impractical with limited ports. It then went through a phase of sporting an outdated design while gradually improving its internals. Eventually, it transformed into what many consider the easiest laptop to recommend at its $999 price point.\\n\\nWhen Apple silicon arrived, the M2 generation saw a price increase to $1,199, which most users reluctantly accepted as still reasonable given the performance gains. Now, with the M4 chip\\'s arrival, Apple has made a surprising move by dropping the price back to $999 for the base model—a decision that makes this already compelling laptop even more attractive.\\n\\n## What\\'s New (and What\\'s Not) in the M4 MacBook Air\\n\\nDespite the significant chip upgrade, physically, the M4 MacBook Air remains largely unchanged from its predecessor. You\\'ll still find:\\n\\n- The same comfortable keyboard\\n- No speaker grills\\n- MagSafe charging\\n- Two USB-C ports and a headphone jack\\n- The familiar notched 60Hz LCD display\\n- The thin and light aluminum build that defines the Air lineup\\n\\nLooking closer, there are a few subtle changes. The mute button icon has been redesigned, and the webcam has been upgraded to a 12-megapixel Center Stage camera that can follow you around the frame (though this feature can be disabled if you prefer). The battery capacity has also seen a slight increase from 52.6 watt-hours to 53.8 watt-hours—about a 2% bump.\\n\\n## Sky Blue: The LaCroix of MacBook Colors\\n\\nPerhaps the most visible change (though barely) is the new \"Sky Blue\" color option, which replaces Space Gray in the lineup. However, calling it \"blue\" might be generous—it\\'s so subtle that it appears almost silver in many lighting conditions and contexts. When placed against white backgrounds, you might notice a hint of blue, but next to truly blue objects, it looks practically silver.\\n\\nIt\\'s so light that it could be described as the \"LaCroix of MacBook paint colors\"—as if someone merely whispered the word \"blue\" in the paint shop before packaging each device. Nevertheless, this pale blue hue is now the identifier for spotting the new M4 model in the wild.\\n\\n## The Real Star: The M4 Chip\\n\\nThe heart of this refresh is the M4 chip, which we\\'ve already seen impress in both the M4 iPad Pro and M4 Mac Mini. While the MacBook Air version is passively cooled (no fans), meaning its sustained performance ceiling will be lower than its actively cooled counterparts, it still delivers exceptional performance for everyday tasks.\\n\\nThe M4\\'s primary advantage over previous Apple silicon generations is its enhanced AI capabilities, featuring a more powerful 16-core Neural Engine. This translates to:\\n\\n- Faster local image rendering\\n- Quicker, more accurate background cutouts\\n- Accelerated photo enhancement in compatible apps like Pixelmator Pro\\n\\n## Beyond the Basics: Surprising Capabilities\\n\\nWhat makes reviewing MacBook Airs particularly interesting is the contrast between their intended use case and their actual capabilities. While designed as an entry-level machine for everyday tasks like email, web browsing, and occasional photo editing, the M4 MacBook Air can handle workloads that would have required a Pro-level machine just a couple of years ago.\\n\\nFor instance, it can:\\n- Load and scrub through 4K and 8K footage in Final Cut Pro with minimal hesitation at quarter-resolution playback\\n- Export video projects only slightly slower than a Mac Mini\\n- Run 3D modeling applications\\n- Handle professional audio production in Logic Pro\\n- Process demanding Adobe Creative Suite workflows\\n- Play AAA games with respectable performance\\n\\nWhile most Air users will stick to video calls, multiple Safari tabs, and productivity apps, it\\'s impressive to know the headroom exists should you need it. The new model even addresses a specific limitation of the previous generation by supporting two external 6K displays simultaneously with the laptop lid open.\\n\\n## The One Shortcoming: Display Quality\\n\\nDespite all its strengths, there is one area where the MacBook Air could still improve: the display. While perfectly adequate for most users, those accustomed to the higher-end screens in the MacBook Pro lineup might find themselves wishing for:\\n\\n- Mini-LED technology for deeper blacks and better contrast\\n- ProMotion high refresh rate for smoother scrolling and animations\\n- Nano-texture coating to reduce glare\\n- Higher brightness for better outdoor visibility\\n\\nApple clearly reserves these premium display features for the Pro lineup, but given the Air\\'s capabilities in other areas, a display upgrade option would be a welcome addition in future iterations.\\n\\n## The Base Model: Finally Enough for Most Users\\n\\nA critical question with each MacBook Air release is whether the base configuration is actually sufficient for most users. With the M4 model, the answer is a resounding yes—thanks primarily to the new 16GB unified memory baseline at the $999 price point.\\n\\nThis memory upgrade is perhaps the most practical benefit of Apple\\'s AI push, as it addresses one of the most common limitations users faced with previous 8GB base models. With 16GB of RAM, the average user is much less likely to experience performance degradation from memory swapping during everyday tasks.\\n\\nThe base model also includes 256GB of storage, which, while not generous, is manageable for many users, especially in our increasingly cloud-based computing environment. As always, Apple\\'s storage upgrades come at a premium price, so external storage solutions remain a more economical option for those needing more space.\\n\\nFor budget-conscious shoppers, it\\'s worth noting that the previous M2 MacBook Air can often be found for around $799 at retailers like Best Buy, making it still an excellent value for those who don\\'t need the latest and greatest.\\n\\n## Conclusion: Boring Updates, Exciting Value\\n\\nThe M4 MacBook Air might seem unexciting on the surface—it features a chip we\\'ve seen before, minimal physical changes, and a color so subtle it\\'s barely noticeable. However, what makes this release truly compelling is the exceptional value proposition: more power, more memory, and a lower price than its predecessor.\\n\\nFor users upgrading from Intel-based MacBooks or even early M1 models, the performance leap will be substantial. Even those with M2 models might find the memory upgrade alone worth considering if they frequently bump against the limitations of 8GB.\\n\\nWhile it may lack the flashy design changes or groundbreaking features that make for exciting tech headlines, the M4 MacBook Air represents something perhaps more important: the continued refinement of what was already an excellent product, now made more accessible through thoughtful improvements and a more attractive price point.\\n\\nThe M4 MacBook Air isn\\'t revolutionary—it\\'s just a really good laptop at a really good price. And sometimes, that\\'s exactly what we need.',\n",
       " 'final_blog': '# M4 MacBook Air: More Power, More RAM, Less Money\\n\\n# The New M4 MacBook Air: More Power, Less Money, and a Whisper of Blue\\n\\n*Apple has once again refreshed its most popular laptop, and this time they\\'ve created what might be one of the best tech deals of 2024. Let\\'s explore what makes the new M4 MacBook Air special, what\\'s changed, and whether it\\'s worth your money.*\\n\\n## The Evolution of MacBook Air: From Engineering Marvel to Essential Computing\\n\\nThe MacBook Air has had quite the journey over the years. It began as a spectacular feat of engineering—impressively thin but somewhat impractical with limited ports. It then went through a phase of sporting an outdated design while gradually improving its internals. Eventually, it transformed into what many consider the easiest laptop to recommend at its $999 price point.\\n\\nWhen Apple silicon arrived, the M2 generation saw a price increase to $1,199, which most users reluctantly accepted as still reasonable given the performance gains. Now, with the M4 chip\\'s arrival, Apple has made a surprising move by dropping the price back to $999 for the base model—a decision that makes this already compelling laptop even more attractive.\\n\\n## What\\'s New (and What\\'s Not) in the M4 MacBook Air\\n\\nDespite the significant chip upgrade, physically, the M4 MacBook Air remains largely unchanged from its predecessor. You\\'ll still find:\\n\\n- The same comfortable keyboard\\n- No speaker grills\\n- MagSafe charging\\n- Two USB-C ports and a headphone jack\\n- The familiar notched 60Hz LCD display\\n- The thin and light aluminum build that defines the Air lineup\\n\\nLooking closer, there are a few subtle changes. The mute button icon has been redesigned, and the webcam has been upgraded to a 12-megapixel Center Stage camera that can follow you around the frame (though this feature can be disabled if you prefer). The battery capacity has also seen a slight increase from 52.6 watt-hours to 53.8 watt-hours—about a 2% bump.\\n\\n## Sky Blue: The LaCroix of MacBook Colors\\n\\nPerhaps the most visible change (though barely) is the new \"Sky Blue\" color option, which replaces Space Gray in the lineup. However, calling it \"blue\" might be generous—it\\'s so subtle that it appears almost silver in many lighting conditions and contexts. When placed against white backgrounds, you might notice a hint of blue, but next to truly blue objects, it looks practically silver.\\n\\nIt\\'s so light that it could be described as the \"LaCroix of MacBook paint colors\"—as if someone merely whispered the word \"blue\" in the paint shop before packaging each device. Nevertheless, this pale blue hue is now the identifier for spotting the new M4 model in the wild.\\n\\n## The Real Star: The M4 Chip\\n\\nThe heart of this refresh is the M4 chip, which we\\'ve already seen impress in both the M4 iPad Pro and M4 Mac Mini. While the MacBook Air version is passively cooled (no fans), meaning its sustained performance ceiling will be lower than its actively cooled counterparts, it still delivers exceptional performance for everyday tasks.\\n\\nThe M4\\'s primary advantage over previous Apple silicon generations is its enhanced AI capabilities, featuring a more powerful 16-core Neural Engine. This translates to:\\n\\n- Faster local image rendering\\n- Quicker, more accurate background cutouts\\n- Accelerated photo enhancement in compatible apps like Pixelmator Pro\\n\\n## Beyond the Basics: Surprising Capabilities\\n\\nWhat makes reviewing MacBook Airs particularly interesting is the contrast between their intended use case and their actual capabilities. While designed as an entry-level machine for everyday tasks like email, web browsing, and occasional photo editing, the M4 MacBook Air can handle workloads that would have required a Pro-level machine just a couple of years ago.\\n\\nFor instance, it can:\\n- Load and scrub through 4K and 8K footage in Final Cut Pro with minimal hesitation at quarter-resolution playback\\n- Export video projects only slightly slower than a Mac Mini\\n- Run 3D modeling applications\\n- Handle professional audio production in Logic Pro\\n- Process demanding Adobe Creative Suite workflows\\n- Play AAA games with respectable performance\\n\\nWhile most Air users will stick to video calls, multiple Safari tabs, and productivity apps, it\\'s impressive to know the headroom exists should you need it. The new model even addresses a specific limitation of the previous generation by supporting two external 6K displays simultaneously with the laptop lid open.\\n\\n## The One Shortcoming: Display Quality\\n\\nDespite all its strengths, there is one area where the MacBook Air could still improve: the display. While perfectly adequate for most users, those accustomed to the higher-end screens in the MacBook Pro lineup might find themselves wishing for:\\n\\n- Mini-LED technology for deeper blacks and better contrast\\n- ProMotion high refresh rate for smoother scrolling and animations\\n- Nano-texture coating to reduce glare\\n- Higher brightness for better outdoor visibility\\n\\nApple clearly reserves these premium display features for the Pro lineup, but given the Air\\'s capabilities in other areas, a display upgrade option would be a welcome addition in future iterations.\\n\\n## The Base Model: Finally Enough for Most Users\\n\\nA critical question with each MacBook Air release is whether the base configuration is actually sufficient for most users. With the M4 model, the answer is a resounding yes—thanks primarily to the new 16GB unified memory baseline at the $999 price point.\\n\\nThis memory upgrade is perhaps the most practical benefit of Apple\\'s AI push, as it addresses one of the most common limitations users faced with previous 8GB base models. With 16GB of RAM, the average user is much less likely to experience performance degradation from memory swapping during everyday tasks.\\n\\nThe base model also includes 256GB of storage, which, while not generous, is manageable for many users, especially in our increasingly cloud-based computing environment. As always, Apple\\'s storage upgrades come at a premium price, so external storage solutions remain a more economical option for those needing more space.\\n\\nFor budget-conscious shoppers, it\\'s worth noting that the previous M2 MacBook Air can often be found for around $799 at retailers like Best Buy, making it still an excellent value for those who don\\'t need the latest and greatest.\\n\\n## Conclusion: Boring Updates, Exciting Value\\n\\nThe M4 MacBook Air might seem unexciting on the surface—it features a chip we\\'ve seen before, minimal physical changes, and a color so subtle it\\'s barely noticeable. However, what makes this release truly compelling is the exceptional value proposition: more power, more memory, and a lower price than its predecessor.\\n\\nFor users upgrading from Intel-based MacBooks or even early M1 models, the performance leap will be substantial. Even those with M2 models might find the memory upgrade alone worth considering if they frequently bump against the limitations of 8GB.\\n\\nWhile it may lack the flashy design changes or groundbreaking features that make for exciting tech headlines, the M4 MacBook Air represents something perhaps more important: the continued refinement of what was already an excellent product, now made more accessible through thoughtful improvements and a more attractive price point.\\n\\nThe M4 MacBook Air isn\\'t revolutionary—it\\'s just a really good laptop at a really good price. And sometimes, that\\'s exactly what we need.'}"
      ]
     },
     "execution_count": 193,
     "metadata": {},
     "output_type": "execute_result"
    }
   ],
   "source": [
    "blog"
   ]
  },
  {
   "cell_type": "code",
   "execution_count": 195,
   "metadata": {},
   "outputs": [],
   "source": [
    "# Markdown(blog['final_blog'])"
   ]
  },
  {
   "cell_type": "code",
   "execution_count": 197,
   "metadata": {},
   "outputs": [
    {
     "name": "stdout",
     "output_type": "stream",
     "text": [
      "\n",
      "\\--------------------  QUERY ROUTER  --------------------\n",
      "\n",
      "\n",
      "https://youtu.be/gJucq3oGq30?si=K3avYoL7KZy1OK19\n",
      "<class 'str'>\n",
      "E1\n",
      "\n",
      "\\--------------------  GET YOUTUBE URL  --------------------\n",
      "\n",
      "\n",
      "https://youtu.be/gJucq3oGq30?si=K3avYoL7KZy1OK19\n",
      "\n",
      "\\--------------------  GET YOUTUBE TRANSCRIPT  --------------------\n",
      "\n",
      "\n",
      "\n",
      "\\--------------------  GENERATE BLOG CONTENT  --------------------\n",
      "\n",
      "\n",
      "\n",
      "\\--------------------  GENERATE YOUTUBE TITLE  --------------------\n",
      "\n",
      "\n"
     ]
    }
   ],
   "source": [
    "blog = blog_app.invoke(\n",
    "    input={\n",
    "        'user_message': \"https://youtu.be/gJucq3oGq30?si=K3avYoL7KZy1OK19\"\n",
    "    }\n",
    ")"
   ]
  },
  {
   "cell_type": "code",
   "execution_count": 198,
   "metadata": {},
   "outputs": [
    {
     "data": {
      "text/markdown": [
       "# How to Get Access to Manis AI: My Success Strategy\n",
       "\n",
       "# Accessing Manis AI: How I Got My Invite Code and What It Can Do\n",
       "\n",
       "## Introduction\n",
       "\n",
       "Artificial intelligence tools are evolving rapidly, and Manis AI represents one of the most exciting developments in this space. As an invite-only AI agent that launched just a few weeks ago, Manis AI has generated significant buzz among tech enthusiasts and professionals alike. Unlike conventional AI chatbots, Manis AI operates on its own virtual computer, enabling it to create, interpret, and generate new files with remarkable sophistication. In this article, I'll share how I successfully secured an invitation after several failed attempts and provide insights into some of the platform's impressive capabilities.\n",
       "\n",
       "## What Makes Manis AI Special?\n",
       "\n",
       "Manis AI stands out from other AI tools due to its advanced capabilities for handling complex, multi-step analysis. While many AI assistants can answer questions or generate content, Manis AI takes functionality to the next level by operating within its own virtual environment. This allows it to:\n",
       "\n",
       "- Process and analyze data across multiple formats\n",
       "- Create and modify files independently\n",
       "- Execute complex tasks that require multiple sequential steps\n",
       "- Maintain context throughout extended problem-solving sessions\n",
       "\n",
       "This functionality makes it particularly valuable for data analysis, report generation, and automating complex workflows that would typically require human intervention across multiple applications.\n",
       "\n",
       "## How I Successfully Got My Invite Code\n",
       "\n",
       "After several unsuccessful attempts at securing an invitation, I finally received access within 24-36 hours of my latest application. Here's the exact process I followed:\n",
       "\n",
       "1. Navigate to the Manis AI website and click \"Get Started\"\n",
       "2. Select \"Join the Waitlist\" on the subsequent page\n",
       "3. Enter your email address (I used a personal Gmail account)\n",
       "4. Complete the use case section with a specific, structured response\n",
       "\n",
       "The use case description appears to be the critical factor in the application process. Based on my experience and conversations with others who have gained access, here's what worked:\n",
       "\n",
       "- I structured my response in three clear paragraphs\n",
       "- I focused on how I would use Manis AI for personal learning and business automation\n",
       "- I kept my description specific yet concise\n",
       "- I avoided mentioning any professional affiliations\n",
       "\n",
       "### What to Avoid in Your Application\n",
       "\n",
       "Through my multiple attempts and conversations with other users, I've identified several potential red flags that might delay your approval:\n",
       "\n",
       "- Using work email addresses\n",
       "- Listing professional titles or company affiliations\n",
       "- Including social media accounts (despite some suggestions to do so)\n",
       "- Providing vague or overly technical use cases\n",
       "\n",
       "My successful application left the social media fields completely blank and focused solely on practical applications for the technology.\n",
       "\n",
       "## Real-World Applications: What I've Been Testing\n",
       "\n",
       "Since gaining access, I've been exploring Manis AI's capabilities with some practical tests. One particularly impressive example involved regulatory reporting for a fictional chocolate sales business.\n",
       "\n",
       "I provided Manis AI with:\n",
       "- An Excel spreadsheet containing chocolate sales data\n",
       "- A set of fictional regulatory requirements for disclosure\n",
       "- Instructions to analyze the data and prepare a compliant report\n",
       "\n",
       "The AI demonstrated impressive analytical capabilities by:\n",
       "1. Interpreting both the data and regulatory requirements\n",
       "2. Performing necessary calculations independently\n",
       "3. Generating a structured Word document with key findings\n",
       "4. Creating relevant graphs and visualizations based on the data\n",
       "\n",
       "What makes this process remarkable is that Manis AI handled the entire workflow without requiring me to switch between applications or manually process any of the information. The system maintained context throughout the task and delivered a polished final product.\n",
       "\n",
       "## Beyond Basic Analysis: Other Potential Use Cases\n",
       "\n",
       "While I'm still exploring Manis AI's full potential, several promising use cases have already become apparent:\n",
       "\n",
       "- **Document Analysis and Summarization**: Processing lengthy documents and extracting key insights\n",
       "- **Data Transformation**: Converting information between different formats and structures\n",
       "- **Automated Reporting**: Generating regular reports from dynamic data sources\n",
       "- **Content Creation**: Developing multimedia content with integrated research\n",
       "- **Process Automation**: Handling multi-step workflows that would typically require human supervision\n",
       "\n",
       "The platform's ability to maintain context while working across different file types and analytical processes makes it particularly valuable for tasks that would traditionally require switching between multiple applications.\n",
       "\n",
       "## Conclusion\n",
       "\n",
       "Manis AI represents a significant step forward in AI assistant technology, offering capabilities that go well beyond simple text generation or data analysis. Its ability to operate within its own virtual environment allows for sophisticated multi-step processes that were previously impossible with conventional AI tools.\n",
       "\n",
       "If you're interested in exploring Manis AI for yourself, I recommend following the application approach outlined above, focusing particularly on providing a clear, specific use case that demonstrates how you would leverage the platform's unique capabilities. While the invite-only status makes access somewhat exclusive, a thoughtful application appears to significantly improve your chances of approval.\n",
       "\n",
       "As AI tools continue to evolve, platforms like Manis AI offer a glimpse into a future where artificial intelligence can handle increasingly complex workflows with minimal human supervision. Whether you're looking to automate business processes, enhance data analysis capabilities, or simply explore the cutting edge of AI technology, Manis AI presents an exciting opportunity worth pursuing."
      ],
      "text/plain": [
       "<IPython.core.display.Markdown object>"
      ]
     },
     "execution_count": 198,
     "metadata": {},
     "output_type": "execute_result"
    }
   ],
   "source": [
    "Markdown(blog['final_blog'])"
   ]
  },
  {
   "cell_type": "code",
   "execution_count": null,
   "metadata": {},
   "outputs": [],
   "source": []
  },
  {
   "cell_type": "code",
   "execution_count": null,
   "metadata": {},
   "outputs": [],
   "source": []
  },
  {
   "cell_type": "code",
   "execution_count": 12,
   "metadata": {},
   "outputs": [],
   "source": [
    "api = \"\" or \"q\" or None"
   ]
  },
  {
   "cell_type": "code",
   "execution_count": 13,
   "metadata": {},
   "outputs": [
    {
     "name": "stdout",
     "output_type": "stream",
     "text": [
      "q\n"
     ]
    }
   ],
   "source": [
    "print(api)"
   ]
  },
  {
   "cell_type": "code",
   "execution_count": null,
   "metadata": {},
   "outputs": [],
   "source": []
  },
  {
   "cell_type": "code",
   "execution_count": null,
   "metadata": {},
   "outputs": [],
   "source": []
  }
 ],
 "metadata": {
  "kernelspec": {
   "display_name": "blog-generation",
   "language": "python",
   "name": "python3"
  },
  "language_info": {
   "codemirror_mode": {
    "name": "ipython",
    "version": 3
   },
   "file_extension": ".py",
   "mimetype": "text/x-python",
   "name": "python",
   "nbconvert_exporter": "python",
   "pygments_lexer": "ipython3",
   "version": "3.10.11"
  }
 },
 "nbformat": 4,
 "nbformat_minor": 2
}
